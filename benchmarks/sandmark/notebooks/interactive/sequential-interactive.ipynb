{
 "cells": [
  {
   "cell_type": "markdown",
   "metadata": {},
   "source": [
    "## Throughput"
   ]
  },
  {
   "cell_type": "code",
   "execution_count": 1,
   "metadata": {},
   "outputs": [],
   "source": [
    "from __future__ import print_function\n",
    "from ipywidgets import interact, interactive, fixed, interact_manual\n",
    "from IPython.display import display\n",
    "from ipywidgets import Layout, Button, Box\n",
    "from nested_dict import nested_dict\n",
    "\n",
    "import json\n",
    "import os, glob\n",
    "import pandas as pd\n",
    "import pandas.io.json as pdjson\n",
    "import seaborn as sns\n",
    "import ipywidgets as widgets\n",
    "\n",
    "sns.set(style=\"whitegrid\")"
   ]
  },
  {
   "cell_type": "code",
   "execution_count": 2,
   "metadata": {},
   "outputs": [],
   "source": [
    "# Initialization\n",
    "artifacts_dir = \"/home/guest/artifacts/\"\n",
    "selected_files = []\n",
    "selected_baseline = \"\"\n",
    "enable_gui = True"
   ]
  },
  {
   "cell_type": "code",
   "execution_count": 3,
   "metadata": {
    "tags": [
     "parameters"
    ]
   },
   "outputs": [],
   "source": [
    "# Parameters cell\n",
    "if enable_gui == False:\n",
    "    print(enable_gui)\n",
    "    print(artifacts_dir)\n",
    "    print(selected_benches)\n",
    "    print(selected_baseline)"
   ]
  },
  {
   "cell_type": "code",
   "execution_count": 4,
   "metadata": {},
   "outputs": [
    {
     "data": {
      "text/html": [
       "<style>.container { width:100% !important; }</style>"
      ],
      "text/plain": [
       "<IPython.core.display.HTML object>"
      ]
     },
     "metadata": {},
     "output_type": "display_data"
    }
   ],
   "source": [
    "if enable_gui:\n",
    "    from IPython.core.display import display, HTML\n",
    "    display(HTML(\"<style>.container { width:100% !important; }</style>\"))"
   ]
  },
  {
   "cell_type": "code",
   "execution_count": 5,
   "metadata": {},
   "outputs": [],
   "source": [
    "bench_files = []\n",
    "\n",
    "artifacts_path = artifacts_dir.split(\"/artifacts/\")[0]\n",
    "\n",
    "for root, dirs, files in os.walk(artifacts_dir):\n",
    "    for file in files:\n",
    "        if file.endswith(\".orun.bench\"):\n",
    "            # print(root)\n",
    "            f = root.split(\"/artifacts/\")[1]\n",
    "            # print(f)\n",
    "            if (len (f.split(\"/\")) <= 5):\n",
    "                bench_files.append((os.path.join(root, file)))"
   ]
  },
  {
   "cell_type": "code",
   "execution_count": 6,
   "metadata": {},
   "outputs": [
    {
     "data": {
      "text/plain": [
       "0"
      ]
     },
     "execution_count": 6,
     "metadata": {},
     "output_type": "execute_result"
    }
   ],
   "source": [
    "len(bench_files)"
   ]
  },
  {
   "cell_type": "code",
   "execution_count": 7,
   "metadata": {},
   "outputs": [],
   "source": [
    "nd = nested_dict(2, list)\n",
    "for x in bench_files:\n",
    "    l = x.split(\"/artifacts/\")[1]\n",
    "    d = l.split(\"/\")\n",
    "    host      = d[0]\n",
    "    repo      = d[1]\n",
    "    commit    = d[2]\n",
    "    variant   = d[3]\n",
    "    timestamp = d[4]\n",
    "    ocaml     = d[5]\n",
    "    value      = commit + \" \" + variant + \" \" + timestamp + \" \" + ocaml\n",
    "    nd[host][repo].append(value)\n",
    "benches = nd.to_dict()    "
   ]
  },
  {
   "cell_type": "code",
   "execution_count": 8,
   "metadata": {},
   "outputs": [
    {
     "data": {
      "text/plain": [
       "{}"
      ]
     },
     "execution_count": 8,
     "metadata": {},
     "output_type": "execute_result"
    }
   ],
   "source": [
    "benches"
   ]
  },
  {
   "cell_type": "code",
   "execution_count": 9,
   "metadata": {},
   "outputs": [],
   "source": [
    "def f(x):\n",
    "    return x\n",
    "\n",
    "def disp(benches):\n",
    "    def select_repo(host):\n",
    "        repoW.options = benches[host]\n",
    "    \n",
    "    def select_commit(repo):\n",
    "        commitW.options = repo\n",
    "\n",
    "    def select_variant(commit):\n",
    "        return None\n",
    "\n",
    "    hostW = widgets.Dropdown(options=benches.keys(), description='Host', disabled=False)\n",
    "    hostS = hostW.value\n",
    "    hostD = widgets.interactive(select_repo, host=hostW)\n",
    "\n",
    "    repoW = widgets.Dropdown(options=benches[hostS].keys(), description='Repository', disabled=False)\n",
    "    repoS = repoW.value\n",
    "    repoD = widgets.interactive(select_commit, repo=repoW)\n",
    "\n",
    "    commitW = widgets.Dropdown(options=benches[hostS][repoS], description='Commit', disabled=False)\n",
    "    commitS = commitW.value\n",
    "    commitD = widgets.interactive(select_variant, commit=commitW)\n",
    "\n",
    "    items_layout = Layout( width='auto' )\n",
    "    \n",
    "    box_layout = Layout(display='flex',\n",
    "                       flex_flow='row wrap',\n",
    "                       align_items='flex-start',\n",
    "                       #border='solid',\n",
    "                       width='100%')\n",
    "    \n",
    "    items = [hostD, repoD, commitD]\n",
    "    box = Box(children=items, layout=box_layout)    \n",
    "    \n",
    "    # display(hostD, repoD, commitD)\n",
    "    display(box)\n",
    "    return (hostD, repoD, commitD)\n",
    "\n",
    "def get_filename(h, r, c):\n",
    "    host = h.children[0].value\n",
    "    # print(host)\n",
    "    \n",
    "    repos = list(benches[host].keys())\n",
    "    repo= repos[r.children[0].index]\n",
    "    # print(repo)\n",
    "    \n",
    "    entries = list(benches[host][repo])\n",
    "    commit_last = entries[c.children[0].index]\n",
    "\n",
    "    commit_list = commit_last.split(\" \")\n",
    "    filename = os.path.join(artifacts_path, 'artifacts', host, repo, '/'.join(commit_list))\n",
    "    print(filename)\n",
    "    return(filename)"
   ]
  },
  {
   "cell_type": "code",
   "execution_count": 10,
   "metadata": {},
   "outputs": [
    {
     "data": {
      "application/vnd.jupyter.widget-view+json": {
       "model_id": "a59e89591cae41f389b5edb67965ad4a",
       "version_major": 2,
       "version_minor": 0
      },
      "text/plain": [
       "interactive(children=(IntText(value=2, description='Comparisons'), Output()), _dom_classes=('widget-interact',…"
      ]
     },
     "metadata": {},
     "output_type": "display_data"
    }
   ],
   "source": [
    "comparisons = interactive(f, x=widgets.IntText(value=2, \n",
    "                                               description='Comparisons', \n",
    "                                               disabled=False))\n",
    "display(comparisons)"
   ]
  },
  {
   "cell_type": "code",
   "execution_count": 11,
   "metadata": {},
   "outputs": [
    {
     "name": "stdout",
     "output_type": "stream",
     "text": [
      "2\n"
     ]
    }
   ],
   "source": [
    "print(comparisons.result)"
   ]
  },
  {
   "cell_type": "code",
   "execution_count": 12,
   "metadata": {},
   "outputs": [
    {
     "ename": "KeyError",
     "evalue": "None",
     "output_type": "error",
     "traceback": [
      "\u001b[0;31m---------------------------------------------------------------------------\u001b[0m",
      "\u001b[0;31mKeyError\u001b[0m                                  Traceback (most recent call last)",
      "\u001b[0;32m<ipython-input-12-ce604f67606d>\u001b[0m in \u001b[0;36m<module>\u001b[0;34m\u001b[0m\n\u001b[1;32m      2\u001b[0m \u001b[0;34m\u001b[0m\u001b[0m\n\u001b[1;32m      3\u001b[0m \u001b[0;32mfor\u001b[0m \u001b[0mi\u001b[0m \u001b[0;32min\u001b[0m \u001b[0mrange\u001b[0m\u001b[0;34m(\u001b[0m\u001b[0mcomparisons\u001b[0m\u001b[0;34m.\u001b[0m\u001b[0mresult\u001b[0m\u001b[0;34m)\u001b[0m\u001b[0;34m:\u001b[0m\u001b[0;34m\u001b[0m\u001b[0;34m\u001b[0m\u001b[0m\n\u001b[0;32m----> 4\u001b[0;31m     \u001b[0mmatrix\u001b[0m\u001b[0;34m[\u001b[0m\u001b[0mi\u001b[0m\u001b[0;34m]\u001b[0m\u001b[0;34m[\u001b[0m\u001b[0;36m0\u001b[0m\u001b[0;34m]\u001b[0m\u001b[0;34m,\u001b[0m \u001b[0mmatrix\u001b[0m\u001b[0;34m[\u001b[0m\u001b[0mi\u001b[0m\u001b[0;34m]\u001b[0m\u001b[0;34m[\u001b[0m\u001b[0;36m1\u001b[0m\u001b[0;34m]\u001b[0m\u001b[0;34m,\u001b[0m \u001b[0mmatrix\u001b[0m\u001b[0;34m[\u001b[0m\u001b[0mi\u001b[0m\u001b[0;34m]\u001b[0m\u001b[0;34m[\u001b[0m\u001b[0;36m2\u001b[0m\u001b[0;34m]\u001b[0m \u001b[0;34m=\u001b[0m \u001b[0mdisp\u001b[0m\u001b[0;34m(\u001b[0m\u001b[0mbenches\u001b[0m\u001b[0;34m)\u001b[0m\u001b[0;34m\u001b[0m\u001b[0;34m\u001b[0m\u001b[0m\n\u001b[0m",
      "\u001b[0;32m<ipython-input-9-27e83e9b6ecf>\u001b[0m in \u001b[0;36mdisp\u001b[0;34m(benches)\u001b[0m\n\u001b[1;32m     16\u001b[0m     \u001b[0mhostD\u001b[0m \u001b[0;34m=\u001b[0m \u001b[0mwidgets\u001b[0m\u001b[0;34m.\u001b[0m\u001b[0minteractive\u001b[0m\u001b[0;34m(\u001b[0m\u001b[0mselect_repo\u001b[0m\u001b[0;34m,\u001b[0m \u001b[0mhost\u001b[0m\u001b[0;34m=\u001b[0m\u001b[0mhostW\u001b[0m\u001b[0;34m)\u001b[0m\u001b[0;34m\u001b[0m\u001b[0;34m\u001b[0m\u001b[0m\n\u001b[1;32m     17\u001b[0m \u001b[0;34m\u001b[0m\u001b[0m\n\u001b[0;32m---> 18\u001b[0;31m     \u001b[0mrepoW\u001b[0m \u001b[0;34m=\u001b[0m \u001b[0mwidgets\u001b[0m\u001b[0;34m.\u001b[0m\u001b[0mDropdown\u001b[0m\u001b[0;34m(\u001b[0m\u001b[0moptions\u001b[0m\u001b[0;34m=\u001b[0m\u001b[0mbenches\u001b[0m\u001b[0;34m[\u001b[0m\u001b[0mhostS\u001b[0m\u001b[0;34m]\u001b[0m\u001b[0;34m.\u001b[0m\u001b[0mkeys\u001b[0m\u001b[0;34m(\u001b[0m\u001b[0;34m)\u001b[0m\u001b[0;34m,\u001b[0m \u001b[0mdescription\u001b[0m\u001b[0;34m=\u001b[0m\u001b[0;34m'Repository'\u001b[0m\u001b[0;34m,\u001b[0m \u001b[0mdisabled\u001b[0m\u001b[0;34m=\u001b[0m\u001b[0;32mFalse\u001b[0m\u001b[0;34m)\u001b[0m\u001b[0;34m\u001b[0m\u001b[0;34m\u001b[0m\u001b[0m\n\u001b[0m\u001b[1;32m     19\u001b[0m     \u001b[0mrepoS\u001b[0m \u001b[0;34m=\u001b[0m \u001b[0mrepoW\u001b[0m\u001b[0;34m.\u001b[0m\u001b[0mvalue\u001b[0m\u001b[0;34m\u001b[0m\u001b[0;34m\u001b[0m\u001b[0m\n\u001b[1;32m     20\u001b[0m     \u001b[0mrepoD\u001b[0m \u001b[0;34m=\u001b[0m \u001b[0mwidgets\u001b[0m\u001b[0;34m.\u001b[0m\u001b[0minteractive\u001b[0m\u001b[0;34m(\u001b[0m\u001b[0mselect_commit\u001b[0m\u001b[0;34m,\u001b[0m \u001b[0mrepo\u001b[0m\u001b[0;34m=\u001b[0m\u001b[0mrepoW\u001b[0m\u001b[0;34m)\u001b[0m\u001b[0;34m\u001b[0m\u001b[0;34m\u001b[0m\u001b[0m\n",
      "\u001b[0;31mKeyError\u001b[0m: None"
     ]
    }
   ],
   "source": [
    "matrix = [[0 for x in range(4)] for y in range(comparisons.result)]\n",
    "    \n",
    "for i in range(comparisons.result):\n",
    "    matrix[i][0], matrix[i][1], matrix[i][2] = disp(benches)"
   ]
  },
  {
   "cell_type": "code",
   "execution_count": null,
   "metadata": {},
   "outputs": [],
   "source": [
    "for i in range(comparisons.result):\n",
    "    matrix[i][3] = get_filename(matrix[i][0], matrix[i][1], matrix[i][2])"
   ]
  },
  {
   "cell_type": "code",
   "execution_count": null,
   "metadata": {},
   "outputs": [],
   "source": [
    "for i in range (comparisons.result):\n",
    "    print(matrix[i][3])\n",
    "    selected_files.append(matrix[i][3])"
   ]
  },
  {
   "cell_type": "code",
   "execution_count": null,
   "metadata": {},
   "outputs": [],
   "source": [
    "if enable_gui == False:\n",
    "    for i in selected_benches:\n",
    "        commit_list = i[2].split(\" \")\n",
    "        selected_files.append(os.path.join(artifacts_dir, i[0], i[1], '/'.join(commit_list)))"
   ]
  },
  {
   "cell_type": "code",
   "execution_count": null,
   "metadata": {},
   "outputs": [],
   "source": [
    "data_frames = []\n",
    "\n",
    "for file in selected_files:\n",
    "    with open(file) as f:\n",
    "        data = []\n",
    "        for l in f:\n",
    "            data.append(json.loads(l))\n",
    "        df = pdjson.json_normalize(data)\n",
    "        df['variant'] = os.path.basename(file).replace(\".orun.bench\",\"\")\n",
    "        data_frames.append(df)\n",
    "\n",
    "df = pd.concat (data_frames, sort=False)\n",
    "df = df.sort_values(['name']) \n",
    "# Uncomment the following to display all the lines in pandas output\n",
    "pd.set_option('display.max_rows', df.shape[0]+1)\n",
    "df"
   ]
  },
  {
   "cell_type": "markdown",
   "metadata": {},
   "source": [
    "### Drop some benchmarks\n"
   ]
  },
  {
   "cell_type": "code",
   "execution_count": null,
   "metadata": {},
   "outputs": [],
   "source": [
    "df = df[(df.name != 'alt-ergo.fill.why') &         #multicore version does not exist\n",
    "        (df.name != 'alt-ergo.yyll.why') &         #multicore version does not exist\n",
    "        (df.name != 'frama-c.slevel') &            #multicore version does not exist\n",
    "        (df.name != 'js_of_ocaml.frama-c_byte')]   #multicore version does not exist\n",
    "throughput_df = df\n",
    "df"
   ]
  },
  {
   "cell_type": "markdown",
   "metadata": {},
   "source": [
    "### Selection example\n",
    "\n",
    "```\n",
    "select * from df where variant = '4.10.0+trunk' and time_secs > 10\n",
    "```"
   ]
  },
  {
   "cell_type": "code",
   "execution_count": null,
   "metadata": {},
   "outputs": [],
   "source": [
    "baseline_h, baseline_r, baseline_c = disp(benches)"
   ]
  },
  {
   "cell_type": "code",
   "execution_count": null,
   "metadata": {},
   "outputs": [],
   "source": [
    "selected_baseline = baseline_c.children[0].value.split(\" \")[3].split(\".orun.bench\")[0]\n",
    "\n",
    "print(selected_baseline)"
   ]
  },
  {
   "cell_type": "code",
   "execution_count": null,
   "metadata": {
    "scrolled": true
   },
   "outputs": [],
   "source": [
    "df.loc[(df['variant'] == selected_baseline) & (df['time_secs'] > 10)]"
   ]
  },
  {
   "cell_type": "code",
   "execution_count": null,
   "metadata": {},
   "outputs": [],
   "source": [
    "df.loc[df['name'] == 'LU_decomposition.1024']"
   ]
  },
  {
   "cell_type": "markdown",
   "metadata": {},
   "source": [
    "### Projection example\n",
    "\n",
    "```\n",
    "select name, variant, time_secs from df\n",
    "```"
   ]
  },
  {
   "cell_type": "code",
   "execution_count": null,
   "metadata": {},
   "outputs": [],
   "source": [
    "df.filter(['name','variant','time_secs'])"
   ]
  },
  {
   "cell_type": "markdown",
   "metadata": {},
   "source": [
    "## Time"
   ]
  },
  {
   "cell_type": "code",
   "execution_count": null,
   "metadata": {},
   "outputs": [],
   "source": [
    "g = sns.catplot (x='name', y='time_secs', hue='variant', data = df, kind ='bar', aspect=4)\n",
    "g.set_xticklabels(rotation=90)"
   ]
  },
  {
   "cell_type": "markdown",
   "metadata": {},
   "source": [
    "### Normalised"
   ]
  },
  {
   "cell_type": "code",
   "execution_count": null,
   "metadata": {},
   "outputs": [],
   "source": [
    "def create_column(df, variant, metric):\n",
    "    df = pd.DataFrame.copy(df)\n",
    "    variant_metric_name = list([ zip(df[metric], df[x], df['name']) \n",
    "              for x in df.columns.array if x == \"variant\" ][0])\n",
    "    name_metric = {n:t for (t, v, n) in variant_metric_name if v == variant}\n",
    "    return name_metric\n",
    "\n",
    "def add_display_name(df,variant, metric):\n",
    "    name_metric = create_column(pd.DataFrame.copy(df), variant, metric)\n",
    "    disp_name = [name+\" (\"+str(round(name_metric[name], 2))+\")\" for name in df[\"name\"]]\n",
    "    df[\"display_name\"] = pd.Series(disp_name, index=df.index)\n",
    "    return df\n",
    "\n",
    "def normalise(df,variant,topic,additionalTopics=[]):\n",
    "    df = add_display_name(df,variant,topic)\n",
    "    df = df.sort_values([\"name\",\"variant\"])\n",
    "    grouped = df.filter(items=['name',topic,'variant','display_name']+additionalTopics).groupby('variant')\n",
    "    ndata_frames = []\n",
    "    for group in grouped:\n",
    "        (v,data) = group\n",
    "        if(v != variant):\n",
    "            data['b'+topic] = grouped.get_group(variant)[topic].values\n",
    "            data[['n'+topic]] = data[[topic]].div(grouped.get_group(variant)[topic].values, axis=0)\n",
    "            for t in additionalTopics:\n",
    "                print(variant, t)\n",
    "                data[[t]] = grouped.get_group(variant)[t].values\n",
    "            ndata_frames.append(data)\n",
    "    df = pd.concat (ndata_frames)\n",
    "    return df\n",
    "\n",
    "def plot_normalised(df,variant,topic):\n",
    "    df = pd.DataFrame.copy(df)\n",
    "    df.sort_values(by=[topic],inplace=True)\n",
    "    df[topic] = df[topic] - 1\n",
    "    g = sns.catplot (x=\"display_name\", y=topic, hue='variant', data = df, kind ='bar', aspect=4, bottom=1)\n",
    "    g.set_xticklabels(rotation=90)\n",
    "    g.ax.legend(loc=8)\n",
    "    g._legend.remove()\n",
    "    g.ax.set_xlabel(\"Benchmarks\")\n",
    "    return g\n",
    "    # g.ax.set_yscale('log')"
   ]
  },
  {
   "cell_type": "code",
   "execution_count": null,
   "metadata": {
    "scrolled": false
   },
   "outputs": [],
   "source": [
    "ndf = normalise(df, selected_baseline, 'time_secs')\n",
    "plot_normalised(ndf, selected_baseline,'ntime_secs')"
   ]
  },
  {
   "cell_type": "markdown",
   "metadata": {},
   "source": [
    "## Top heap words"
   ]
  },
  {
   "cell_type": "code",
   "execution_count": null,
   "metadata": {
    "scrolled": true
   },
   "outputs": [],
   "source": [
    "g = sns.catplot (x='name', y='gc.top_heap_words', hue='variant', data = df, kind ='bar', aspect=4)\n",
    "g.set_xticklabels(rotation=90)"
   ]
  },
  {
   "cell_type": "markdown",
   "metadata": {},
   "source": [
    "### Normalised"
   ]
  },
  {
   "cell_type": "code",
   "execution_count": null,
   "metadata": {
    "scrolled": false
   },
   "outputs": [],
   "source": [
    "ndf = normalise(df, selected_baseline, 'gc.top_heap_words')\n",
    "plot_normalised(ndf, selected_baseline,'ngc.top_heap_words')"
   ]
  },
  {
   "cell_type": "markdown",
   "metadata": {},
   "source": [
    "## Max RSS (KB)"
   ]
  },
  {
   "cell_type": "code",
   "execution_count": null,
   "metadata": {
    "scrolled": true
   },
   "outputs": [],
   "source": [
    "g = sns.catplot (x='name', y='maxrss_kB', hue='variant', data = df, kind ='bar', aspect=4)\n",
    "g.set_xticklabels(rotation=90)"
   ]
  },
  {
   "cell_type": "markdown",
   "metadata": {},
   "source": [
    "### Normalised"
   ]
  },
  {
   "cell_type": "code",
   "execution_count": null,
   "metadata": {
    "scrolled": false
   },
   "outputs": [],
   "source": [
    "ndf = normalise(df, selected_baseline,'maxrss_kB')\n",
    "plot_normalised(ndf, selected_baseline,'nmaxrss_kB')"
   ]
  },
  {
   "cell_type": "markdown",
   "metadata": {},
   "source": [
    "## Major Collections"
   ]
  },
  {
   "cell_type": "code",
   "execution_count": null,
   "metadata": {
    "scrolled": false
   },
   "outputs": [],
   "source": [
    "g = sns.catplot (x='name', y='gc.major_collections', hue='variant', data = df, kind ='bar', aspect=4)\n",
    "g.set_xticklabels(rotation=90)"
   ]
  },
  {
   "cell_type": "markdown",
   "metadata": {},
   "source": [
    "### Normalised"
   ]
  },
  {
   "cell_type": "code",
   "execution_count": null,
   "metadata": {},
   "outputs": [],
   "source": [
    "ndf = normalise(df, selected_baseline,'gc.major_collections')\n",
    "plot_normalised(ndf, selected_baseline,'ngc.major_collections')\n",
    "ndf"
   ]
  },
  {
   "cell_type": "markdown",
   "metadata": {},
   "source": [
    "## Major words"
   ]
  },
  {
   "cell_type": "code",
   "execution_count": null,
   "metadata": {},
   "outputs": [],
   "source": [
    "g = sns.catplot (x='name', y='gc.major_words', hue='variant', data = df, kind ='bar', aspect=4)\n",
    "g.set_xticklabels(rotation=90)"
   ]
  },
  {
   "cell_type": "markdown",
   "metadata": {},
   "source": [
    "### Normalised"
   ]
  },
  {
   "cell_type": "code",
   "execution_count": null,
   "metadata": {},
   "outputs": [],
   "source": [
    "ndf = normalise(df, selected_baseline,'gc.major_words')\n",
    "plot_normalised(ndf, selected_baseline,'ngc.major_words')"
   ]
  },
  {
   "cell_type": "markdown",
   "metadata": {},
   "source": [
    "## Minor Collections"
   ]
  },
  {
   "cell_type": "code",
   "execution_count": null,
   "metadata": {
    "scrolled": true
   },
   "outputs": [],
   "source": [
    "g = sns.catplot (x='name', y='gc.minor_collections', hue='variant', data = df, kind ='bar', aspect=4)\n",
    "g.set_xticklabels(rotation=90)"
   ]
  },
  {
   "cell_type": "code",
   "execution_count": null,
   "metadata": {},
   "outputs": [],
   "source": [
    "ndf = normalise(df, selected_baseline, 'gc.minor_collections')\n",
    "plot_normalised(ndf, selected_baseline, 'ngc.minor_collections')"
   ]
  },
  {
   "cell_type": "markdown",
   "metadata": {},
   "source": [
    "# Latency"
   ]
  },
  {
   "cell_type": "code",
   "execution_count": null,
   "metadata": {},
   "outputs": [],
   "source": [
    "data_frames = []\n",
    "\n",
    "for file in glob.glob(\"*.pausetimes_*.bench\"):\n",
    "    with open(file) as f:\n",
    "        data = []\n",
    "        for l in f:\n",
    "            data.append(json.loads(l))\n",
    "        ldf = pdjson.json_normalize(data)\n",
    "        ldf['variant'] = file.replace(\".pausetimes_multicore.bench\",\"\").replace(\".pausetimes_trunk.bench\",\"\")\n",
    "        data_frames.append(ldf)\n",
    "\n",
    "df2 = pd.concat(data_frames, sort=False)\n",
    "df2 = df2.sort_values(['name'])\n",
    "\n",
    "## Drop some benchmarks\n",
    "df2 = df2[(df2.name != 'alt-ergo.fill.why') & #multicore version does not exist\n",
    "        (df2.name != 'alt-ergo.yyll.why') & #multicore version does not exist\n",
    "        (df2.name != 'frama-c.slevel') &    #multicore version does not exist\n",
    "        (df2.name != 'js_of_ocaml.frama-c_byte') &    #multicore version does not exist\n",
    "        (df2.name != 'cpdf.merge')]         #Not a macro benchmark. Will be removed from subsequent runs.\n",
    "df2.count()\n",
    "latency_df = df2\n",
    "df2"
   ]
  },
  {
   "cell_type": "markdown",
   "metadata": {},
   "source": [
    "The latency distributions `distr_latency` are a list of latencies at `[10,20,30,40,50,60,70,80,90,95,99,99.9]`th percentiles."
   ]
  },
  {
   "cell_type": "markdown",
   "metadata": {},
   "source": [
    "## Max latency"
   ]
  },
  {
   "cell_type": "code",
   "execution_count": null,
   "metadata": {},
   "outputs": [],
   "source": [
    "df2.filter([\"name\",\"variant\",\"max_latency\"])"
   ]
  },
  {
   "cell_type": "code",
   "execution_count": null,
   "metadata": {
    "scrolled": true
   },
   "outputs": [],
   "source": [
    "def plotLatencyAt(df,at,aspect):\n",
    "    fdf = df.filter([\"name\",\"variant\",at + \"_latency\"])\n",
    "    fdf.sort_values(by=[at + '_latency'],inplace=True)\n",
    "    fdf[at + \"_latency\"] = fdf[at + \"_latency\"] / 1000.0\n",
    "    g = sns.catplot (x='name', y=at+'_latency', hue='variant', data = fdf, kind ='bar', aspect=aspect)\n",
    "    g.set_xticklabels(rotation=90)\n",
    "    g.ax.set_ylabel(at + \" latency (microseconds)\")\n",
    "    g.ax.set_xlabel(\"Benchmarks\")\n",
    "    g.ax.set_yscale('log')\n",
    "    return g\n",
    "\n",
    "plotLatencyAt(df2,\"max\",4)"
   ]
  },
  {
   "cell_type": "markdown",
   "metadata": {},
   "source": [
    "## 99.9th percentile latency"
   ]
  },
  {
   "cell_type": "code",
   "execution_count": null,
   "metadata": {},
   "outputs": [],
   "source": [
    "def getLatencyAt(df,percentile,idx):\n",
    "    groups = df.groupby('variant')\n",
    "    ndfs = []\n",
    "    for group in groups:\n",
    "        (v,df) = group\n",
    "        for i, row in df.iterrows():\n",
    "            df.at[i,percentile+\"_latency\"] = list(df.at[i,\"distr_latency\"])[idx]\n",
    "        ndfs.append(df)\n",
    "    return pd.concat(ndfs)\n",
    "\n",
    "df2 = getLatencyAt(df2,\"99.9\",-1)\n",
    "plotLatencyAt(df2,\"99.9\",4)"
   ]
  },
  {
   "cell_type": "markdown",
   "metadata": {},
   "source": [
    "## 99th percentile latency"
   ]
  },
  {
   "cell_type": "code",
   "execution_count": null,
   "metadata": {
    "scrolled": true
   },
   "outputs": [],
   "source": [
    "df2 = getLatencyAt(df2,\"99\",-2)\n",
    "plotLatencyAt(df2,\"99\",4)"
   ]
  },
  {
   "cell_type": "code",
   "execution_count": null,
   "metadata": {},
   "outputs": [],
   "source": []
  }
 ],
 "metadata": {
  "celltoolbar": "Tags",
  "kernelspec": {
   "display_name": "Python 3",
   "language": "python",
   "name": "python3"
  },
  "language_info": {
   "codemirror_mode": {
    "name": "ipython",
    "version": 3
   },
   "file_extension": ".py",
   "mimetype": "text/x-python",
   "name": "python",
   "nbconvert_exporter": "python",
   "pygments_lexer": "ipython3",
   "version": "3.8.2"
  }
 },
 "nbformat": 4,
 "nbformat_minor": 2
}
